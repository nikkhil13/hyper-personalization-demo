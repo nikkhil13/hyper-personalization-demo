{
 "cells": [
  {
   "cell_type": "markdown",
   "metadata": {},
   "source": [
    "Below Jupyter notebook mentions all the steps followed to create the datasets for our demo.\n",
    " \n",
    "You can find all datasets in the /datasets folder. Following are the steps used to create all the above datasets -"
   ]
  },
  {
   "cell_type": "code",
   "execution_count": 1,
   "metadata": {},
   "outputs": [],
   "source": [
    "import pandas as pd\n",
    "from random import *\n",
    "import numpy as np\n",
    "import random\n",
    "import matplotlib.pyplot as plt"
   ]
  },
  {
   "cell_type": "code",
   "execution_count": 2,
   "metadata": {},
   "outputs": [],
   "source": [
    "final_abt = pd.read_excel(r'C:\\Users\\sinnsr\\OneDrive - SAS\\Projects and POCs\\CC Hyper Personalization\\datasets\\Final_ABT1.xlsx')"
   ]
  },
  {
   "cell_type": "code",
   "execution_count": 3,
   "metadata": {},
   "outputs": [
    {
     "data": {
      "text/plain": [
       "Index(['acceptTermOffer', 'age', 'campaign_ID', 'car', 'car_loan', 'custID',\n",
       "       'default', 'education', 'job', 'lastcon_daysago', 'lastcon_secs',\n",
       "       'marital', 'mortgage', 'own_home', 'pref_channel', 'tenure_yrs',\n",
       "       'num_active_products', 'tot_spend', 'job_gp'],\n",
       "      dtype='object')"
      ]
     },
     "execution_count": 3,
     "metadata": {},
     "output_type": "execute_result"
    }
   ],
   "source": [
    "final_abt.columns"
   ]
  },
  {
   "cell_type": "code",
   "execution_count": 4,
   "metadata": {},
   "outputs": [],
   "source": [
    "length = len(final_abt)"
   ]
  },
  {
   "cell_type": "code",
   "execution_count": 5,
   "metadata": {},
   "outputs": [
    {
     "data": {
      "text/plain": [
       "10281"
      ]
     },
     "execution_count": 5,
     "metadata": {},
     "output_type": "execute_result"
    }
   ],
   "source": [
    "length"
   ]
  },
  {
   "cell_type": "markdown",
   "metadata": {},
   "source": [
    "#### Generate Mobile Numbers"
   ]
  },
  {
   "cell_type": "code",
   "execution_count": 6,
   "metadata": {},
   "outputs": [],
   "source": [
    "from faker import Faker\n",
    "fake = Faker('hi_IN')"
   ]
  },
  {
   "cell_type": "code",
   "execution_count": 7,
   "metadata": {},
   "outputs": [],
   "source": [
    "from faker.providers import phone_number"
   ]
  },
  {
   "cell_type": "code",
   "execution_count": 8,
   "metadata": {},
   "outputs": [
    {
     "data": {
      "text/plain": [
       "'05214 964309'"
      ]
     },
     "execution_count": 8,
     "metadata": {},
     "output_type": "execute_result"
    }
   ],
   "source": [
    " fake.phone_number()"
   ]
  },
  {
   "cell_type": "code",
   "execution_count": 9,
   "metadata": {},
   "outputs": [],
   "source": [
    " mobile_number = []"
   ]
  },
  {
   "cell_type": "code",
   "execution_count": 10,
   "metadata": {},
   "outputs": [],
   "source": [
    "for _ in range(length):\n",
    "    i = fake.phone_number()\n",
    "    mobile_number.append(i)"
   ]
  },
  {
   "cell_type": "code",
   "execution_count": 11,
   "metadata": {},
   "outputs": [],
   "source": [
    "final_abt['mobile_number'] = mobile_number"
   ]
  },
  {
   "cell_type": "code",
   "execution_count": 12,
   "metadata": {},
   "outputs": [
    {
     "data": {
      "text/html": [
       "<div>\n",
       "<style scoped>\n",
       "    .dataframe tbody tr th:only-of-type {\n",
       "        vertical-align: middle;\n",
       "    }\n",
       "\n",
       "    .dataframe tbody tr th {\n",
       "        vertical-align: top;\n",
       "    }\n",
       "\n",
       "    .dataframe thead th {\n",
       "        text-align: right;\n",
       "    }\n",
       "</style>\n",
       "<table border=\"1\" class=\"dataframe\">\n",
       "  <thead>\n",
       "    <tr style=\"text-align: right;\">\n",
       "      <th></th>\n",
       "      <th>acceptTermOffer</th>\n",
       "      <th>age</th>\n",
       "      <th>campaign_ID</th>\n",
       "      <th>car</th>\n",
       "      <th>car_loan</th>\n",
       "      <th>custID</th>\n",
       "      <th>default</th>\n",
       "      <th>education</th>\n",
       "      <th>job</th>\n",
       "      <th>lastcon_daysago</th>\n",
       "      <th>lastcon_secs</th>\n",
       "      <th>marital</th>\n",
       "      <th>mortgage</th>\n",
       "      <th>own_home</th>\n",
       "      <th>pref_channel</th>\n",
       "      <th>tenure_yrs</th>\n",
       "      <th>num_active_products</th>\n",
       "      <th>tot_spend</th>\n",
       "      <th>job_gp</th>\n",
       "      <th>mobile_number</th>\n",
       "    </tr>\n",
       "  </thead>\n",
       "  <tbody>\n",
       "    <tr>\n",
       "      <td>0</td>\n",
       "      <td>yes</td>\n",
       "      <td>98</td>\n",
       "      <td>2</td>\n",
       "      <td>no</td>\n",
       "      <td>0</td>\n",
       "      <td>59800</td>\n",
       "      <td>yes</td>\n",
       "      <td>basic.4y</td>\n",
       "      <td>retired</td>\n",
       "      <td>52</td>\n",
       "      <td>272</td>\n",
       "      <td>married</td>\n",
       "      <td>310000</td>\n",
       "      <td>yes</td>\n",
       "      <td>email</td>\n",
       "      <td>&gt;9</td>\n",
       "      <td>3</td>\n",
       "      <td>22844</td>\n",
       "      <td>Low Earner</td>\n",
       "      <td>+91 004 3212979</td>\n",
       "    </tr>\n",
       "    <tr>\n",
       "      <td>1</td>\n",
       "      <td>no</td>\n",
       "      <td>92</td>\n",
       "      <td>1</td>\n",
       "      <td>no</td>\n",
       "      <td>0</td>\n",
       "      <td>60039</td>\n",
       "      <td>no</td>\n",
       "      <td>unknown</td>\n",
       "      <td>retired</td>\n",
       "      <td>12</td>\n",
       "      <td>271</td>\n",
       "      <td>married</td>\n",
       "      <td>500000</td>\n",
       "      <td>yes</td>\n",
       "      <td>mobile</td>\n",
       "      <td>&gt;9</td>\n",
       "      <td>3</td>\n",
       "      <td>21886</td>\n",
       "      <td>Low Earner</td>\n",
       "      <td>028-02985275</td>\n",
       "    </tr>\n",
       "    <tr>\n",
       "      <td>2</td>\n",
       "      <td>no</td>\n",
       "      <td>94</td>\n",
       "      <td>1</td>\n",
       "      <td>no</td>\n",
       "      <td>0</td>\n",
       "      <td>59896</td>\n",
       "      <td>no</td>\n",
       "      <td>basic.9y</td>\n",
       "      <td>retired</td>\n",
       "      <td>8</td>\n",
       "      <td>134</td>\n",
       "      <td>married</td>\n",
       "      <td>0</td>\n",
       "      <td>no</td>\n",
       "      <td>email</td>\n",
       "      <td>&gt;9</td>\n",
       "      <td>1</td>\n",
       "      <td>21795</td>\n",
       "      <td>Low Earner</td>\n",
       "      <td>00870 613715</td>\n",
       "    </tr>\n",
       "    <tr>\n",
       "      <td>3</td>\n",
       "      <td>yes</td>\n",
       "      <td>92</td>\n",
       "      <td>1</td>\n",
       "      <td>yes</td>\n",
       "      <td>50000</td>\n",
       "      <td>60173</td>\n",
       "      <td>no</td>\n",
       "      <td>unknown</td>\n",
       "      <td>retired</td>\n",
       "      <td>12</td>\n",
       "      <td>370</td>\n",
       "      <td>married</td>\n",
       "      <td>0</td>\n",
       "      <td>no</td>\n",
       "      <td>email</td>\n",
       "      <td>&gt;9</td>\n",
       "      <td>4</td>\n",
       "      <td>21771</td>\n",
       "      <td>Low Earner</td>\n",
       "      <td>00721 975351</td>\n",
       "    </tr>\n",
       "    <tr>\n",
       "      <td>4</td>\n",
       "      <td>no</td>\n",
       "      <td>95</td>\n",
       "      <td>1</td>\n",
       "      <td>no</td>\n",
       "      <td>0</td>\n",
       "      <td>58055</td>\n",
       "      <td>no</td>\n",
       "      <td>basic.6y</td>\n",
       "      <td>retired</td>\n",
       "      <td>9</td>\n",
       "      <td>85</td>\n",
       "      <td>divorced</td>\n",
       "      <td>0</td>\n",
       "      <td>no</td>\n",
       "      <td>email</td>\n",
       "      <td>&gt;9</td>\n",
       "      <td>3</td>\n",
       "      <td>21525</td>\n",
       "      <td>Low Earner</td>\n",
       "      <td>04231903732</td>\n",
       "    </tr>\n",
       "    <tr>\n",
       "      <td>...</td>\n",
       "      <td>...</td>\n",
       "      <td>...</td>\n",
       "      <td>...</td>\n",
       "      <td>...</td>\n",
       "      <td>...</td>\n",
       "      <td>...</td>\n",
       "      <td>...</td>\n",
       "      <td>...</td>\n",
       "      <td>...</td>\n",
       "      <td>...</td>\n",
       "      <td>...</td>\n",
       "      <td>...</td>\n",
       "      <td>...</td>\n",
       "      <td>...</td>\n",
       "      <td>...</td>\n",
       "      <td>...</td>\n",
       "      <td>...</td>\n",
       "      <td>...</td>\n",
       "      <td>...</td>\n",
       "      <td>...</td>\n",
       "    </tr>\n",
       "    <tr>\n",
       "      <td>10276</td>\n",
       "      <td>yes</td>\n",
       "      <td>18</td>\n",
       "      <td>2</td>\n",
       "      <td>yes</td>\n",
       "      <td>46000</td>\n",
       "      <td>59833</td>\n",
       "      <td>no</td>\n",
       "      <td>basic.6y</td>\n",
       "      <td>student</td>\n",
       "      <td>18</td>\n",
       "      <td>368</td>\n",
       "      <td>single</td>\n",
       "      <td>0</td>\n",
       "      <td>no</td>\n",
       "      <td>mobile</td>\n",
       "      <td>0-3</td>\n",
       "      <td>2</td>\n",
       "      <td>-1467</td>\n",
       "      <td>Medium Earner</td>\n",
       "      <td>+91 523 9222347</td>\n",
       "    </tr>\n",
       "    <tr>\n",
       "      <td>10277</td>\n",
       "      <td>no</td>\n",
       "      <td>17</td>\n",
       "      <td>2</td>\n",
       "      <td>no</td>\n",
       "      <td>0</td>\n",
       "      <td>59591</td>\n",
       "      <td>no</td>\n",
       "      <td>basic.9y</td>\n",
       "      <td>student</td>\n",
       "      <td>8</td>\n",
       "      <td>182</td>\n",
       "      <td>single</td>\n",
       "      <td>350000</td>\n",
       "      <td>yes</td>\n",
       "      <td>email</td>\n",
       "      <td>0-3</td>\n",
       "      <td>2</td>\n",
       "      <td>-1538</td>\n",
       "      <td>Medium Earner</td>\n",
       "      <td>+91 316 4035368</td>\n",
       "    </tr>\n",
       "    <tr>\n",
       "      <td>10278</td>\n",
       "      <td>yes</td>\n",
       "      <td>18</td>\n",
       "      <td>2</td>\n",
       "      <td>no</td>\n",
       "      <td>0</td>\n",
       "      <td>57412</td>\n",
       "      <td>no</td>\n",
       "      <td>high.school</td>\n",
       "      <td>student</td>\n",
       "      <td>10</td>\n",
       "      <td>256</td>\n",
       "      <td>single</td>\n",
       "      <td>0</td>\n",
       "      <td>no</td>\n",
       "      <td>mobile</td>\n",
       "      <td>0-3</td>\n",
       "      <td>1</td>\n",
       "      <td>-1891</td>\n",
       "      <td>Medium Earner</td>\n",
       "      <td>+91 861 8472326</td>\n",
       "    </tr>\n",
       "    <tr>\n",
       "      <td>10279</td>\n",
       "      <td>yes</td>\n",
       "      <td>17</td>\n",
       "      <td>1</td>\n",
       "      <td>yes</td>\n",
       "      <td>44000</td>\n",
       "      <td>59773</td>\n",
       "      <td>no</td>\n",
       "      <td>unknown</td>\n",
       "      <td>student</td>\n",
       "      <td>6</td>\n",
       "      <td>896</td>\n",
       "      <td>single</td>\n",
       "      <td>0</td>\n",
       "      <td>no</td>\n",
       "      <td>email</td>\n",
       "      <td>0-3</td>\n",
       "      <td>5</td>\n",
       "      <td>-1891</td>\n",
       "      <td>Medium Earner</td>\n",
       "      <td>09397435474</td>\n",
       "    </tr>\n",
       "    <tr>\n",
       "      <td>10280</td>\n",
       "      <td>yes</td>\n",
       "      <td>17</td>\n",
       "      <td>2</td>\n",
       "      <td>unknown</td>\n",
       "      <td>0</td>\n",
       "      <td>59604</td>\n",
       "      <td>no</td>\n",
       "      <td>basic.9y</td>\n",
       "      <td>student</td>\n",
       "      <td>59</td>\n",
       "      <td>498</td>\n",
       "      <td>single</td>\n",
       "      <td>0</td>\n",
       "      <td>unknown</td>\n",
       "      <td>mobile</td>\n",
       "      <td>0-3</td>\n",
       "      <td>4</td>\n",
       "      <td>-1902</td>\n",
       "      <td>Medium Earner</td>\n",
       "      <td>04444190144</td>\n",
       "    </tr>\n",
       "  </tbody>\n",
       "</table>\n",
       "<p>10281 rows × 20 columns</p>\n",
       "</div>"
      ],
      "text/plain": [
       "      acceptTermOffer  age  campaign_ID      car  car_loan  custID default  \\\n",
       "0                 yes   98            2       no         0   59800     yes   \n",
       "1                  no   92            1       no         0   60039      no   \n",
       "2                  no   94            1       no         0   59896      no   \n",
       "3                 yes   92            1      yes     50000   60173      no   \n",
       "4                  no   95            1       no         0   58055      no   \n",
       "...               ...  ...          ...      ...       ...     ...     ...   \n",
       "10276             yes   18            2      yes     46000   59833      no   \n",
       "10277              no   17            2       no         0   59591      no   \n",
       "10278             yes   18            2       no         0   57412      no   \n",
       "10279             yes   17            1      yes     44000   59773      no   \n",
       "10280             yes   17            2  unknown         0   59604      no   \n",
       "\n",
       "         education      job  lastcon_daysago  lastcon_secs   marital  \\\n",
       "0         basic.4y  retired               52           272   married   \n",
       "1          unknown  retired               12           271   married   \n",
       "2         basic.9y  retired                8           134   married   \n",
       "3          unknown  retired               12           370   married   \n",
       "4         basic.6y  retired                9            85  divorced   \n",
       "...            ...      ...              ...           ...       ...   \n",
       "10276     basic.6y  student               18           368    single   \n",
       "10277     basic.9y  student                8           182    single   \n",
       "10278  high.school  student               10           256    single   \n",
       "10279      unknown  student                6           896    single   \n",
       "10280     basic.9y  student               59           498    single   \n",
       "\n",
       "       mortgage own_home pref_channel tenure_yrs  num_active_products  \\\n",
       "0        310000      yes        email         >9                    3   \n",
       "1        500000      yes       mobile         >9                    3   \n",
       "2             0       no        email         >9                    1   \n",
       "3             0       no        email         >9                    4   \n",
       "4             0       no        email         >9                    3   \n",
       "...         ...      ...          ...        ...                  ...   \n",
       "10276         0       no       mobile        0-3                    2   \n",
       "10277    350000      yes        email        0-3                    2   \n",
       "10278         0       no       mobile        0-3                    1   \n",
       "10279         0       no        email        0-3                    5   \n",
       "10280         0  unknown       mobile        0-3                    4   \n",
       "\n",
       "       tot_spend         job_gp    mobile_number  \n",
       "0          22844     Low Earner  +91 004 3212979  \n",
       "1          21886     Low Earner     028-02985275  \n",
       "2          21795     Low Earner     00870 613715  \n",
       "3          21771     Low Earner     00721 975351  \n",
       "4          21525     Low Earner      04231903732  \n",
       "...          ...            ...              ...  \n",
       "10276      -1467  Medium Earner  +91 523 9222347  \n",
       "10277      -1538  Medium Earner  +91 316 4035368  \n",
       "10278      -1891  Medium Earner  +91 861 8472326  \n",
       "10279      -1891  Medium Earner      09397435474  \n",
       "10280      -1902  Medium Earner      04444190144  \n",
       "\n",
       "[10281 rows x 20 columns]"
      ]
     },
     "execution_count": 12,
     "metadata": {},
     "output_type": "execute_result"
    }
   ],
   "source": [
    "final_abt"
   ]
  },
  {
   "cell_type": "code",
   "execution_count": 13,
   "metadata": {},
   "outputs": [],
   "source": [
    "length = len(final_abt)"
   ]
  },
  {
   "cell_type": "code",
   "execution_count": 14,
   "metadata": {},
   "outputs": [
    {
     "data": {
      "text/plain": [
       "10281"
      ]
     },
     "execution_count": 14,
     "metadata": {},
     "output_type": "execute_result"
    }
   ],
   "source": [
    "length"
   ]
  },
  {
   "cell_type": "code",
   "execution_count": 15,
   "metadata": {},
   "outputs": [
    {
     "data": {
      "text/plain": [
       "array(['retired', 'housemaid', 'unknown', 'blue-collar', 'management',\n",
       "       'admin.', 'self-employed', 'technician', 'entrepreneur',\n",
       "       'unemployed', 'services', 'student'], dtype=object)"
      ]
     },
     "execution_count": 15,
     "metadata": {},
     "output_type": "execute_result"
    }
   ],
   "source": [
    "final_abt['job'].unique()"
   ]
  },
  {
   "cell_type": "code",
   "execution_count": 63,
   "metadata": {},
   "outputs": [
    {
     "data": {
      "text/html": [
       "<div>\n",
       "<style scoped>\n",
       "    .dataframe tbody tr th:only-of-type {\n",
       "        vertical-align: middle;\n",
       "    }\n",
       "\n",
       "    .dataframe tbody tr th {\n",
       "        vertical-align: top;\n",
       "    }\n",
       "\n",
       "    .dataframe thead th {\n",
       "        text-align: right;\n",
       "    }\n",
       "</style>\n",
       "<table border=\"1\" class=\"dataframe\">\n",
       "  <thead>\n",
       "    <tr style=\"text-align: right;\">\n",
       "      <th></th>\n",
       "      <th>acceptTermOffer</th>\n",
       "      <th>age</th>\n",
       "      <th>campaign_ID</th>\n",
       "      <th>car</th>\n",
       "      <th>car_loan</th>\n",
       "      <th>custID</th>\n",
       "      <th>default</th>\n",
       "      <th>education</th>\n",
       "      <th>job</th>\n",
       "      <th>lastcon_daysago</th>\n",
       "      <th>lastcon_secs</th>\n",
       "      <th>marital</th>\n",
       "      <th>mortgage</th>\n",
       "      <th>own_home</th>\n",
       "      <th>pref_channel</th>\n",
       "      <th>tenure_yrs</th>\n",
       "      <th>num_active_products</th>\n",
       "      <th>tot_spend</th>\n",
       "      <th>mobile_number</th>\n",
       "    </tr>\n",
       "    <tr>\n",
       "      <th>job_gp</th>\n",
       "      <th></th>\n",
       "      <th></th>\n",
       "      <th></th>\n",
       "      <th></th>\n",
       "      <th></th>\n",
       "      <th></th>\n",
       "      <th></th>\n",
       "      <th></th>\n",
       "      <th></th>\n",
       "      <th></th>\n",
       "      <th></th>\n",
       "      <th></th>\n",
       "      <th></th>\n",
       "      <th></th>\n",
       "      <th></th>\n",
       "      <th></th>\n",
       "      <th></th>\n",
       "      <th></th>\n",
       "      <th></th>\n",
       "    </tr>\n",
       "  </thead>\n",
       "  <tbody>\n",
       "    <tr>\n",
       "      <td>High Earner</td>\n",
       "      <td>6121</td>\n",
       "      <td>6121</td>\n",
       "      <td>6121</td>\n",
       "      <td>6121</td>\n",
       "      <td>6121</td>\n",
       "      <td>6121</td>\n",
       "      <td>6121</td>\n",
       "      <td>6121</td>\n",
       "      <td>6121</td>\n",
       "      <td>6121</td>\n",
       "      <td>6121</td>\n",
       "      <td>6121</td>\n",
       "      <td>6121</td>\n",
       "      <td>6121</td>\n",
       "      <td>6121</td>\n",
       "      <td>6121</td>\n",
       "      <td>6121</td>\n",
       "      <td>6121</td>\n",
       "      <td>6121</td>\n",
       "    </tr>\n",
       "    <tr>\n",
       "      <td>Low Earner</td>\n",
       "      <td>2177</td>\n",
       "      <td>2177</td>\n",
       "      <td>2177</td>\n",
       "      <td>2177</td>\n",
       "      <td>2177</td>\n",
       "      <td>2177</td>\n",
       "      <td>2177</td>\n",
       "      <td>2177</td>\n",
       "      <td>2177</td>\n",
       "      <td>2177</td>\n",
       "      <td>2177</td>\n",
       "      <td>2177</td>\n",
       "      <td>2177</td>\n",
       "      <td>2177</td>\n",
       "      <td>2177</td>\n",
       "      <td>2177</td>\n",
       "      <td>2177</td>\n",
       "      <td>2177</td>\n",
       "      <td>2177</td>\n",
       "    </tr>\n",
       "    <tr>\n",
       "      <td>Medium Earner</td>\n",
       "      <td>1983</td>\n",
       "      <td>1983</td>\n",
       "      <td>1983</td>\n",
       "      <td>1983</td>\n",
       "      <td>1983</td>\n",
       "      <td>1983</td>\n",
       "      <td>1983</td>\n",
       "      <td>1983</td>\n",
       "      <td>1983</td>\n",
       "      <td>1983</td>\n",
       "      <td>1983</td>\n",
       "      <td>1983</td>\n",
       "      <td>1983</td>\n",
       "      <td>1983</td>\n",
       "      <td>1983</td>\n",
       "      <td>1983</td>\n",
       "      <td>1983</td>\n",
       "      <td>1983</td>\n",
       "      <td>1983</td>\n",
       "    </tr>\n",
       "  </tbody>\n",
       "</table>\n",
       "</div>"
      ],
      "text/plain": [
       "               acceptTermOffer   age  campaign_ID   car  car_loan  custID  \\\n",
       "job_gp                                                                      \n",
       "High Earner               6121  6121         6121  6121      6121    6121   \n",
       "Low Earner                2177  2177         2177  2177      2177    2177   \n",
       "Medium Earner             1983  1983         1983  1983      1983    1983   \n",
       "\n",
       "               default  education   job  lastcon_daysago  lastcon_secs  \\\n",
       "job_gp                                                                   \n",
       "High Earner       6121       6121  6121             6121          6121   \n",
       "Low Earner        2177       2177  2177             2177          2177   \n",
       "Medium Earner     1983       1983  1983             1983          1983   \n",
       "\n",
       "               marital  mortgage  own_home  pref_channel  tenure_yrs  \\\n",
       "job_gp                                                                 \n",
       "High Earner       6121      6121      6121          6121        6121   \n",
       "Low Earner        2177      2177      2177          2177        2177   \n",
       "Medium Earner     1983      1983      1983          1983        1983   \n",
       "\n",
       "               num_active_products  tot_spend  mobile_number  \n",
       "job_gp                                                        \n",
       "High Earner                   6121       6121           6121  \n",
       "Low Earner                    2177       2177           2177  \n",
       "Medium Earner                 1983       1983           1983  "
      ]
     },
     "execution_count": 63,
     "metadata": {},
     "output_type": "execute_result"
    }
   ],
   "source": [
    "final_abt.groupby('job_gp').count()"
   ]
  },
  {
   "cell_type": "code",
   "execution_count": 15,
   "metadata": {},
   "outputs": [],
   "source": [
    "neg_t = final_abt[final_abt['tot_spend'] < 0]"
   ]
  },
  {
   "cell_type": "code",
   "execution_count": 16,
   "metadata": {},
   "outputs": [
    {
     "data": {
      "text/plain": [
       "88"
      ]
     },
     "execution_count": 16,
     "metadata": {},
     "output_type": "execute_result"
    }
   ],
   "source": [
    "len(neg_t)"
   ]
  },
  {
   "cell_type": "code",
   "execution_count": 16,
   "metadata": {},
   "outputs": [],
   "source": [
    "high_spend_merchants = ['Shoppersstop', 'Marks and Spencer', 'LG', 'Taj Hotels'] # 3000-5000 , #10000 "
   ]
  },
  {
   "cell_type": "code",
   "execution_count": 17,
   "metadata": {},
   "outputs": [],
   "source": [
    "medium_spend_merchants = ['Punjabibynature','DMART', 'BigBazaar', 'PVR', 'Starbucks' ] # 1000 - 3000"
   ]
  },
  {
   "cell_type": "code",
   "execution_count": 18,
   "metadata": {},
   "outputs": [],
   "source": [
    "low_spend_merchants = ['bookmyshow','dominos','airtel', 'Naturals']      #200 - 600"
   ]
  },
  {
   "cell_type": "code",
   "execution_count": 19,
   "metadata": {},
   "outputs": [],
   "source": [
    "low_medium_spends = low_spend_merchants + medium_spend_merchants"
   ]
  },
  {
   "cell_type": "code",
   "execution_count": 20,
   "metadata": {},
   "outputs": [],
   "source": [
    "medium_high_merchants = medium_spend_merchants + high_spend_merchants"
   ]
  },
  {
   "cell_type": "code",
   "execution_count": 29,
   "metadata": {},
   "outputs": [],
   "source": [
    "column_names = [\"custID\", \"merchant\", \"amount\",\"transaction_date\",\"transaction_unit\",\"job\"]"
   ]
  },
  {
   "cell_type": "code",
   "execution_count": 30,
   "metadata": {},
   "outputs": [],
   "source": [
    "trans_table = pd.DataFrame(columns= column_names)"
   ]
  },
  {
   "cell_type": "code",
   "execution_count": 31,
   "metadata": {},
   "outputs": [
    {
     "data": {
      "text/html": [
       "<div>\n",
       "<style scoped>\n",
       "    .dataframe tbody tr th:only-of-type {\n",
       "        vertical-align: middle;\n",
       "    }\n",
       "\n",
       "    .dataframe tbody tr th {\n",
       "        vertical-align: top;\n",
       "    }\n",
       "\n",
       "    .dataframe thead th {\n",
       "        text-align: right;\n",
       "    }\n",
       "</style>\n",
       "<table border=\"1\" class=\"dataframe\">\n",
       "  <thead>\n",
       "    <tr style=\"text-align: right;\">\n",
       "      <th></th>\n",
       "      <th>custID</th>\n",
       "      <th>merchant</th>\n",
       "      <th>amount</th>\n",
       "      <th>transaction_date</th>\n",
       "      <th>transaction_unit</th>\n",
       "      <th>job</th>\n",
       "    </tr>\n",
       "  </thead>\n",
       "  <tbody>\n",
       "  </tbody>\n",
       "</table>\n",
       "</div>"
      ],
      "text/plain": [
       "Empty DataFrame\n",
       "Columns: [custID, merchant, amount, transaction_date, transaction_unit, job]\n",
       "Index: []"
      ]
     },
     "execution_count": 31,
     "metadata": {},
     "output_type": "execute_result"
    }
   ],
   "source": [
    "trans_table"
   ]
  },
  {
   "cell_type": "code",
   "execution_count": 32,
   "metadata": {},
   "outputs": [
    {
     "data": {
      "text/plain": [
       "4"
      ]
     },
     "execution_count": 32,
     "metadata": {},
     "output_type": "execute_result"
    }
   ],
   "source": [
    "randint(2,7)"
   ]
  },
  {
   "cell_type": "code",
   "execution_count": 33,
   "metadata": {},
   "outputs": [
    {
     "data": {
      "text/plain": [
       "'Taj Hotels'"
      ]
     },
     "execution_count": 33,
     "metadata": {},
     "output_type": "execute_result"
    }
   ],
   "source": [
    "random.choice(high_spend_merchants)"
   ]
  },
  {
   "cell_type": "markdown",
   "metadata": {},
   "source": [
    "#### Randomly create number of transactions for each customer"
   ]
  },
  {
   "cell_type": "code",
   "execution_count": 34,
   "metadata": {},
   "outputs": [],
   "source": [
    "number_of_transactions = 0\n",
    "cust_Id_list = []\n",
    "transaction_unit = []\n",
    "transaction_amount = []\n",
    "merchant_type = []\n",
    "job_list = []"
   ]
  },
  {
   "cell_type": "code",
   "execution_count": 35,
   "metadata": {},
   "outputs": [],
   "source": [
    "for i in range(length):\n",
    "    customerid = final_abt['custID'][i]\n",
    "    job = final_abt['job'][i]\n",
    "    number_of_transactions = randint(12,24)\n",
    "    #print(customerid)\n",
    "    for _ in range(number_of_transactions):\n",
    "        \n",
    "        cust_Id_list.append(customerid)\n",
    "        transaction_unit.append(1)\n",
    "        job_list.append(job)\n",
    "        \n",
    "        if job in ['retired', 'unemployed', 'unknown', 'housemaid']:\n",
    "            ch = random.choice(low_spend_merchants)\n",
    "            merchant_type.append(ch)\n",
    "            amt = randint(200,600)\n",
    "            transaction_amount.append(amt)\n",
    "            \n",
    "        elif job in ['student','self-employed','services','technician']:\n",
    "            ch = random.choice(low_medium_spends)\n",
    "            merchant_type.append(ch)\n",
    "            amt = randint(400,1800)\n",
    "            transaction_amount.append(amt)\n",
    "        \n",
    "        elif job in ['blue-collar', 'management', 'admin.','entrepreneur']:\n",
    "            \n",
    "            ch = random.choice(medium_high_merchants)\n",
    "            merchant_type.append(ch)\n",
    "            amt = randint(2000,8000)\n",
    "            transaction_amount.append(amt)\n",
    "            \n",
    "        else:\n",
    "            merchant_type.append(0)\n",
    "            transaction_amount.append(0)      \n",
    "    "
   ]
  },
  {
   "cell_type": "code",
   "execution_count": 36,
   "metadata": {},
   "outputs": [
    {
     "data": {
      "text/plain": [
       "185160"
      ]
     },
     "execution_count": 36,
     "metadata": {},
     "output_type": "execute_result"
    }
   ],
   "source": [
    "len(merchant_type)"
   ]
  },
  {
   "cell_type": "code",
   "execution_count": 37,
   "metadata": {},
   "outputs": [],
   "source": [
    "trans_table['merchant'] = merchant_type"
   ]
  },
  {
   "cell_type": "code",
   "execution_count": 38,
   "metadata": {},
   "outputs": [],
   "source": [
    "trans_table['amount'] = transaction_amount"
   ]
  },
  {
   "cell_type": "code",
   "execution_count": 39,
   "metadata": {},
   "outputs": [],
   "source": [
    "trans_table['transaction_unit'] = transaction_unit"
   ]
  },
  {
   "cell_type": "code",
   "execution_count": 40,
   "metadata": {},
   "outputs": [],
   "source": [
    "trans_table['custID'] = cust_Id_list"
   ]
  },
  {
   "cell_type": "code",
   "execution_count": 41,
   "metadata": {},
   "outputs": [],
   "source": [
    "trans_table['job'] = job_list"
   ]
  },
  {
   "cell_type": "code",
   "execution_count": 42,
   "metadata": {},
   "outputs": [
    {
     "data": {
      "text/plain": [
       "custID                60173\n",
       "merchant             airtel\n",
       "amount                  301\n",
       "transaction_date        NaN\n",
       "transaction_unit          1\n",
       "job                 retired\n",
       "Name: 65, dtype: object"
      ]
     },
     "execution_count": 42,
     "metadata": {},
     "output_type": "execute_result"
    }
   ],
   "source": [
    "trans_table.iloc[65]"
   ]
  },
  {
   "cell_type": "code",
   "execution_count": 43,
   "metadata": {},
   "outputs": [],
   "source": [
    "mer_types = trans_table.groupby('merchant')['transaction_unit'].sum()"
   ]
  },
  {
   "cell_type": "code",
   "execution_count": 44,
   "metadata": {},
   "outputs": [
    {
     "data": {
      "text/plain": [
       "<matplotlib.axes._subplots.AxesSubplot at 0x26e016b4e08>"
      ]
     },
     "execution_count": 44,
     "metadata": {},
     "output_type": "execute_result"
    },
    {
     "data": {
      "image/png": "[encoded data removed]",
      "text/plain": [
       "<Figure size 432x288 with 1 Axes>"
      ]
     },
     "metadata": {
      "needs_background": "light"
     },
     "output_type": "display_data"
    }
   ],
   "source": [
    "mer_types.plot.bar()"
   ]
  },
  {
   "cell_type": "markdown",
   "metadata": {},
   "source": [
    "#### Make room for cross-spends as well which are not encountered - 10% of the housewives in the data will shop from Shoppers stop or Marks&S"
   ]
  },
  {
   "cell_type": "code",
   "execution_count": 45,
   "metadata": {},
   "outputs": [
    {
     "data": {
      "text/html": [
       "<div>\n",
       "<style scoped>\n",
       "    .dataframe tbody tr th:only-of-type {\n",
       "        vertical-align: middle;\n",
       "    }\n",
       "\n",
       "    .dataframe tbody tr th {\n",
       "        vertical-align: top;\n",
       "    }\n",
       "\n",
       "    .dataframe thead th {\n",
       "        text-align: right;\n",
       "    }\n",
       "</style>\n",
       "<table border=\"1\" class=\"dataframe\">\n",
       "  <thead>\n",
       "    <tr style=\"text-align: right;\">\n",
       "      <th></th>\n",
       "      <th>custID</th>\n",
       "      <th>merchant</th>\n",
       "      <th>amount</th>\n",
       "      <th>transaction_date</th>\n",
       "      <th>transaction_unit</th>\n",
       "      <th>job</th>\n",
       "    </tr>\n",
       "  </thead>\n",
       "  <tbody>\n",
       "    <tr>\n",
       "      <td>245</td>\n",
       "      <td>60012</td>\n",
       "      <td>Naturals</td>\n",
       "      <td>555</td>\n",
       "      <td>NaN</td>\n",
       "      <td>1</td>\n",
       "      <td>housemaid</td>\n",
       "    </tr>\n",
       "    <tr>\n",
       "      <td>246</td>\n",
       "      <td>60012</td>\n",
       "      <td>bookmyshow</td>\n",
       "      <td>423</td>\n",
       "      <td>NaN</td>\n",
       "      <td>1</td>\n",
       "      <td>housemaid</td>\n",
       "    </tr>\n",
       "    <tr>\n",
       "      <td>247</td>\n",
       "      <td>60012</td>\n",
       "      <td>Naturals</td>\n",
       "      <td>435</td>\n",
       "      <td>NaN</td>\n",
       "      <td>1</td>\n",
       "      <td>housemaid</td>\n",
       "    </tr>\n",
       "    <tr>\n",
       "      <td>248</td>\n",
       "      <td>60012</td>\n",
       "      <td>bookmyshow</td>\n",
       "      <td>313</td>\n",
       "      <td>NaN</td>\n",
       "      <td>1</td>\n",
       "      <td>housemaid</td>\n",
       "    </tr>\n",
       "    <tr>\n",
       "      <td>249</td>\n",
       "      <td>60012</td>\n",
       "      <td>dominos</td>\n",
       "      <td>498</td>\n",
       "      <td>NaN</td>\n",
       "      <td>1</td>\n",
       "      <td>housemaid</td>\n",
       "    </tr>\n",
       "    <tr>\n",
       "      <td>...</td>\n",
       "      <td>...</td>\n",
       "      <td>...</td>\n",
       "      <td>...</td>\n",
       "      <td>...</td>\n",
       "      <td>...</td>\n",
       "      <td>...</td>\n",
       "    </tr>\n",
       "    <tr>\n",
       "      <td>182129</td>\n",
       "      <td>52944</td>\n",
       "      <td>dominos</td>\n",
       "      <td>422</td>\n",
       "      <td>NaN</td>\n",
       "      <td>1</td>\n",
       "      <td>housemaid</td>\n",
       "    </tr>\n",
       "    <tr>\n",
       "      <td>182130</td>\n",
       "      <td>52944</td>\n",
       "      <td>airtel</td>\n",
       "      <td>215</td>\n",
       "      <td>NaN</td>\n",
       "      <td>1</td>\n",
       "      <td>housemaid</td>\n",
       "    </tr>\n",
       "    <tr>\n",
       "      <td>182131</td>\n",
       "      <td>52944</td>\n",
       "      <td>Naturals</td>\n",
       "      <td>326</td>\n",
       "      <td>NaN</td>\n",
       "      <td>1</td>\n",
       "      <td>housemaid</td>\n",
       "    </tr>\n",
       "    <tr>\n",
       "      <td>182132</td>\n",
       "      <td>52944</td>\n",
       "      <td>bookmyshow</td>\n",
       "      <td>499</td>\n",
       "      <td>NaN</td>\n",
       "      <td>1</td>\n",
       "      <td>housemaid</td>\n",
       "    </tr>\n",
       "    <tr>\n",
       "      <td>182133</td>\n",
       "      <td>52944</td>\n",
       "      <td>dominos</td>\n",
       "      <td>327</td>\n",
       "      <td>NaN</td>\n",
       "      <td>1</td>\n",
       "      <td>housemaid</td>\n",
       "    </tr>\n",
       "  </tbody>\n",
       "</table>\n",
       "<p>11019 rows × 6 columns</p>\n",
       "</div>"
      ],
      "text/plain": [
       "        custID    merchant  amount transaction_date  transaction_unit  \\\n",
       "245      60012    Naturals     555              NaN                 1   \n",
       "246      60012  bookmyshow     423              NaN                 1   \n",
       "247      60012    Naturals     435              NaN                 1   \n",
       "248      60012  bookmyshow     313              NaN                 1   \n",
       "249      60012     dominos     498              NaN                 1   \n",
       "...        ...         ...     ...              ...               ...   \n",
       "182129   52944     dominos     422              NaN                 1   \n",
       "182130   52944      airtel     215              NaN                 1   \n",
       "182131   52944    Naturals     326              NaN                 1   \n",
       "182132   52944  bookmyshow     499              NaN                 1   \n",
       "182133   52944     dominos     327              NaN                 1   \n",
       "\n",
       "              job  \n",
       "245     housemaid  \n",
       "246     housemaid  \n",
       "247     housemaid  \n",
       "248     housemaid  \n",
       "249     housemaid  \n",
       "...           ...  \n",
       "182129  housemaid  \n",
       "182130  housemaid  \n",
       "182131  housemaid  \n",
       "182132  housemaid  \n",
       "182133  housemaid  \n",
       "\n",
       "[11019 rows x 6 columns]"
      ]
     },
     "execution_count": 45,
     "metadata": {},
     "output_type": "execute_result"
    }
   ],
   "source": [
    "trans_table[trans_table['job'] == 'housemaid']"
   ]
  },
  {
   "cell_type": "code",
   "execution_count": 46,
   "metadata": {},
   "outputs": [],
   "source": [
    "housewife = trans_table.loc[trans_table['job'] == 'housemaid']"
   ]
  },
  {
   "cell_type": "code",
   "execution_count": 47,
   "metadata": {},
   "outputs": [],
   "source": [
    "house_types = housewife.groupby('merchant')['transaction_unit'].sum()"
   ]
  },
  {
   "cell_type": "code",
   "execution_count": 48,
   "metadata": {},
   "outputs": [
    {
     "data": {
      "text/plain": [
       "<matplotlib.axes._subplots.AxesSubplot at 0x26e0461fac8>"
      ]
     },
     "execution_count": 48,
     "metadata": {},
     "output_type": "execute_result"
    },
    {
     "data": {
      "image/png": "[encoded data removed]",
      "text/plain": [
       "<Figure size 432x288 with 1 Axes>"
      ]
     },
     "metadata": {
      "needs_background": "light"
     },
     "output_type": "display_data"
    }
   ],
   "source": [
    "house_types.plot.bar()"
   ]
  },
  {
   "cell_type": "code",
   "execution_count": 49,
   "metadata": {},
   "outputs": [
    {
     "name": "stdout",
     "output_type": "stream",
     "text": [
      "304\n",
      "10.016447368421053\n"
     ]
    }
   ],
   "source": [
    "print(int(0.1*3045))\n",
    "print(3045/int(0.1*3045))"
   ]
  },
  {
   "cell_type": "code",
   "execution_count": 50,
   "metadata": {},
   "outputs": [],
   "source": [
    "b = housewife[np.mod(np.arange(housewife.index.size),10)==0]"
   ]
  },
  {
   "cell_type": "code",
   "execution_count": 51,
   "metadata": {},
   "outputs": [
    {
     "data": {
      "text/plain": [
       "'Marks and Spencer'"
      ]
     },
     "execution_count": 51,
     "metadata": {},
     "output_type": "execute_result"
    }
   ],
   "source": [
    "random.choice(['Shoppersstop', 'Marks and Spencer'])"
   ]
  },
  {
   "cell_type": "code",
   "execution_count": 52,
   "metadata": {},
   "outputs": [],
   "source": [
    "list_mer = []\n"
   ]
  },
  {
   "cell_type": "code",
   "execution_count": 53,
   "metadata": {},
   "outputs": [],
   "source": [
    "amount_mer = []"
   ]
  },
  {
   "cell_type": "code",
   "execution_count": 54,
   "metadata": {},
   "outputs": [
    {
     "name": "stderr",
     "output_type": "stream",
     "text": [
      "C:\\Users\\sinnsr\\AppData\\Local\\Continuum\\anaconda3\\lib\\site-packages\\ipykernel_launcher.py:1: SettingWithCopyWarning: \n",
      "A value is trying to be set on a copy of a slice from a DataFrame.\n",
      "Try using .loc[row_indexer,col_indexer] = value instead\n",
      "\n",
      "See the caveats in the documentation: http://pandas.pydata.org/pandas-docs/stable/user_guide/indexing.html#returning-a-view-versus-a-copy\n",
      "  \"\"\"Entry point for launching an IPython kernel.\n"
     ]
    }
   ],
   "source": [
    "b[\"merchant\"] = \"\""
   ]
  },
  {
   "cell_type": "code",
   "execution_count": 55,
   "metadata": {},
   "outputs": [
    {
     "data": {
      "text/plain": [
       "1102"
      ]
     },
     "execution_count": 55,
     "metadata": {},
     "output_type": "execute_result"
    }
   ],
   "source": [
    "len(b)"
   ]
  },
  {
   "cell_type": "code",
   "execution_count": 56,
   "metadata": {},
   "outputs": [],
   "source": [
    "for i in range(len(b)):\n",
    "    list_mer.append(random.choice(['Shoppersstop', 'Marks and Spencer','DMART','BigBazaar']))\n",
    "    amount_mer.append(randint(2500,4500))"
   ]
  },
  {
   "cell_type": "code",
   "execution_count": 57,
   "metadata": {},
   "outputs": [
    {
     "data": {
      "text/plain": [
       "1102"
      ]
     },
     "execution_count": 57,
     "metadata": {},
     "output_type": "execute_result"
    }
   ],
   "source": [
    "len(list_mer)"
   ]
  },
  {
   "cell_type": "code",
   "execution_count": 58,
   "metadata": {},
   "outputs": [
    {
     "name": "stderr",
     "output_type": "stream",
     "text": [
      "C:\\Users\\sinnsr\\AppData\\Local\\Continuum\\anaconda3\\lib\\site-packages\\ipykernel_launcher.py:1: SettingWithCopyWarning: \n",
      "A value is trying to be set on a copy of a slice from a DataFrame.\n",
      "Try using .loc[row_indexer,col_indexer] = value instead\n",
      "\n",
      "See the caveats in the documentation: http://pandas.pydata.org/pandas-docs/stable/user_guide/indexing.html#returning-a-view-versus-a-copy\n",
      "  \"\"\"Entry point for launching an IPython kernel.\n"
     ]
    }
   ],
   "source": [
    "b['merchant'] = list_mer"
   ]
  },
  {
   "cell_type": "code",
   "execution_count": 59,
   "metadata": {},
   "outputs": [
    {
     "name": "stderr",
     "output_type": "stream",
     "text": [
      "C:\\Users\\sinnsr\\AppData\\Local\\Continuum\\anaconda3\\lib\\site-packages\\ipykernel_launcher.py:1: SettingWithCopyWarning: \n",
      "A value is trying to be set on a copy of a slice from a DataFrame.\n",
      "Try using .loc[row_indexer,col_indexer] = value instead\n",
      "\n",
      "See the caveats in the documentation: http://pandas.pydata.org/pandas-docs/stable/user_guide/indexing.html#returning-a-view-versus-a-copy\n",
      "  \"\"\"Entry point for launching an IPython kernel.\n"
     ]
    }
   ],
   "source": [
    "b['amount'] = amount_mer"
   ]
  },
  {
   "cell_type": "code",
   "execution_count": 60,
   "metadata": {},
   "outputs": [
    {
     "data": {
      "text/plain": [
       "<matplotlib.axes._subplots.AxesSubplot at 0x26e046a7808>"
      ]
     },
     "execution_count": 60,
     "metadata": {},
     "output_type": "execute_result"
    },
    {
     "data": {
      "image/png": "[encoded data removed]",
      "text/plain": [
       "<Figure size 432x288 with 1 Axes>"
      ]
     },
     "metadata": {
      "needs_background": "light"
     },
     "output_type": "display_data"
    }
   ],
   "source": [
    "b.groupby('merchant')['transaction_unit'].sum().plot.bar()"
   ]
  },
  {
   "cell_type": "code",
   "execution_count": 61,
   "metadata": {},
   "outputs": [
    {
     "data": {
      "text/html": [
       "<div>\n",
       "<style scoped>\n",
       "    .dataframe tbody tr th:only-of-type {\n",
       "        vertical-align: middle;\n",
       "    }\n",
       "\n",
       "    .dataframe tbody tr th {\n",
       "        vertical-align: top;\n",
       "    }\n",
       "\n",
       "    .dataframe thead th {\n",
       "        text-align: right;\n",
       "    }\n",
       "</style>\n",
       "<table border=\"1\" class=\"dataframe\">\n",
       "  <thead>\n",
       "    <tr style=\"text-align: right;\">\n",
       "      <th></th>\n",
       "      <th>custID</th>\n",
       "      <th>merchant</th>\n",
       "      <th>amount</th>\n",
       "      <th>transaction_date</th>\n",
       "      <th>transaction_unit</th>\n",
       "      <th>job</th>\n",
       "    </tr>\n",
       "  </thead>\n",
       "  <tbody>\n",
       "    <tr>\n",
       "      <td>245</td>\n",
       "      <td>60012</td>\n",
       "      <td>DMART</td>\n",
       "      <td>3747</td>\n",
       "      <td>NaN</td>\n",
       "      <td>1</td>\n",
       "      <td>housemaid</td>\n",
       "    </tr>\n",
       "    <tr>\n",
       "      <td>255</td>\n",
       "      <td>60012</td>\n",
       "      <td>Shoppersstop</td>\n",
       "      <td>3344</td>\n",
       "      <td>NaN</td>\n",
       "      <td>1</td>\n",
       "      <td>housemaid</td>\n",
       "    </tr>\n",
       "    <tr>\n",
       "      <td>265</td>\n",
       "      <td>60012</td>\n",
       "      <td>Marks and Spencer</td>\n",
       "      <td>3689</td>\n",
       "      <td>NaN</td>\n",
       "      <td>1</td>\n",
       "      <td>housemaid</td>\n",
       "    </tr>\n",
       "    <tr>\n",
       "      <td>643</td>\n",
       "      <td>59998</td>\n",
       "      <td>BigBazaar</td>\n",
       "      <td>2521</td>\n",
       "      <td>NaN</td>\n",
       "      <td>1</td>\n",
       "      <td>housemaid</td>\n",
       "    </tr>\n",
       "    <tr>\n",
       "      <td>866</td>\n",
       "      <td>60013</td>\n",
       "      <td>BigBazaar</td>\n",
       "      <td>3574</td>\n",
       "      <td>NaN</td>\n",
       "      <td>1</td>\n",
       "      <td>housemaid</td>\n",
       "    </tr>\n",
       "    <tr>\n",
       "      <td>...</td>\n",
       "      <td>...</td>\n",
       "      <td>...</td>\n",
       "      <td>...</td>\n",
       "      <td>...</td>\n",
       "      <td>...</td>\n",
       "      <td>...</td>\n",
       "    </tr>\n",
       "    <tr>\n",
       "      <td>181389</td>\n",
       "      <td>55378</td>\n",
       "      <td>Marks and Spencer</td>\n",
       "      <td>3726</td>\n",
       "      <td>NaN</td>\n",
       "      <td>1</td>\n",
       "      <td>housemaid</td>\n",
       "    </tr>\n",
       "    <tr>\n",
       "      <td>181399</td>\n",
       "      <td>55378</td>\n",
       "      <td>DMART</td>\n",
       "      <td>3914</td>\n",
       "      <td>NaN</td>\n",
       "      <td>1</td>\n",
       "      <td>housemaid</td>\n",
       "    </tr>\n",
       "    <tr>\n",
       "      <td>182051</td>\n",
       "      <td>54294</td>\n",
       "      <td>DMART</td>\n",
       "      <td>4488</td>\n",
       "      <td>NaN</td>\n",
       "      <td>1</td>\n",
       "      <td>housemaid</td>\n",
       "    </tr>\n",
       "    <tr>\n",
       "      <td>182115</td>\n",
       "      <td>52944</td>\n",
       "      <td>BigBazaar</td>\n",
       "      <td>4314</td>\n",
       "      <td>NaN</td>\n",
       "      <td>1</td>\n",
       "      <td>housemaid</td>\n",
       "    </tr>\n",
       "    <tr>\n",
       "      <td>182125</td>\n",
       "      <td>52944</td>\n",
       "      <td>Shoppersstop</td>\n",
       "      <td>3227</td>\n",
       "      <td>NaN</td>\n",
       "      <td>1</td>\n",
       "      <td>housemaid</td>\n",
       "    </tr>\n",
       "  </tbody>\n",
       "</table>\n",
       "<p>1102 rows × 6 columns</p>\n",
       "</div>"
      ],
      "text/plain": [
       "        custID           merchant  amount transaction_date  transaction_unit  \\\n",
       "245      60012              DMART    3747              NaN                 1   \n",
       "255      60012       Shoppersstop    3344              NaN                 1   \n",
       "265      60012  Marks and Spencer    3689              NaN                 1   \n",
       "643      59998          BigBazaar    2521              NaN                 1   \n",
       "866      60013          BigBazaar    3574              NaN                 1   \n",
       "...        ...                ...     ...              ...               ...   \n",
       "181389   55378  Marks and Spencer    3726              NaN                 1   \n",
       "181399   55378              DMART    3914              NaN                 1   \n",
       "182051   54294              DMART    4488              NaN                 1   \n",
       "182115   52944          BigBazaar    4314              NaN                 1   \n",
       "182125   52944       Shoppersstop    3227              NaN                 1   \n",
       "\n",
       "              job  \n",
       "245     housemaid  \n",
       "255     housemaid  \n",
       "265     housemaid  \n",
       "643     housemaid  \n",
       "866     housemaid  \n",
       "...           ...  \n",
       "181389  housemaid  \n",
       "181399  housemaid  \n",
       "182051  housemaid  \n",
       "182115  housemaid  \n",
       "182125  housemaid  \n",
       "\n",
       "[1102 rows x 6 columns]"
      ]
     },
     "execution_count": 61,
     "metadata": {},
     "output_type": "execute_result"
    }
   ],
   "source": [
    "b"
   ]
  },
  {
   "cell_type": "code",
   "execution_count": 66,
   "metadata": {},
   "outputs": [],
   "source": [
    "a = b.groupby('custID')['transaction_unit'].sum()"
   ]
  },
  {
   "cell_type": "code",
   "execution_count": 67,
   "metadata": {},
   "outputs": [],
   "source": [
    "a = a.to_list()"
   ]
  },
  {
   "cell_type": "markdown",
   "metadata": {},
   "source": [
    "#### Checking whether the same custID is overwritten"
   ]
  },
  {
   "cell_type": "code",
   "execution_count": 68,
   "metadata": {},
   "outputs": [
    {
     "data": {
      "text/plain": [
       "450"
      ]
     },
     "execution_count": 68,
     "metadata": {},
     "output_type": "execute_result"
    }
   ],
   "source": [
    "sum(i > 1 for i in a)"
   ]
  },
  {
   "cell_type": "code",
   "execution_count": 69,
   "metadata": {},
   "outputs": [],
   "source": [
    "testtranstable = trans_table"
   ]
  },
  {
   "cell_type": "code",
   "execution_count": 70,
   "metadata": {},
   "outputs": [],
   "source": [
    "testtranstable.update(b)"
   ]
  },
  {
   "cell_type": "code",
   "execution_count": 71,
   "metadata": {},
   "outputs": [
    {
     "data": {
      "text/html": [
       "<div>\n",
       "<style scoped>\n",
       "    .dataframe tbody tr th:only-of-type {\n",
       "        vertical-align: middle;\n",
       "    }\n",
       "\n",
       "    .dataframe tbody tr th {\n",
       "        vertical-align: top;\n",
       "    }\n",
       "\n",
       "    .dataframe thead th {\n",
       "        text-align: right;\n",
       "    }\n",
       "</style>\n",
       "<table border=\"1\" class=\"dataframe\">\n",
       "  <thead>\n",
       "    <tr style=\"text-align: right;\">\n",
       "      <th></th>\n",
       "      <th>custID</th>\n",
       "      <th>merchant</th>\n",
       "      <th>amount</th>\n",
       "      <th>transaction_date</th>\n",
       "      <th>transaction_unit</th>\n",
       "      <th>job</th>\n",
       "    </tr>\n",
       "  </thead>\n",
       "  <tbody>\n",
       "    <tr>\n",
       "      <td>0</td>\n",
       "      <td>59800.0</td>\n",
       "      <td>bookmyshow</td>\n",
       "      <td>249.0</td>\n",
       "      <td>NaN</td>\n",
       "      <td>1.0</td>\n",
       "      <td>retired</td>\n",
       "    </tr>\n",
       "    <tr>\n",
       "      <td>1</td>\n",
       "      <td>59800.0</td>\n",
       "      <td>airtel</td>\n",
       "      <td>515.0</td>\n",
       "      <td>NaN</td>\n",
       "      <td>1.0</td>\n",
       "      <td>retired</td>\n",
       "    </tr>\n",
       "    <tr>\n",
       "      <td>2</td>\n",
       "      <td>59800.0</td>\n",
       "      <td>dominos</td>\n",
       "      <td>577.0</td>\n",
       "      <td>NaN</td>\n",
       "      <td>1.0</td>\n",
       "      <td>retired</td>\n",
       "    </tr>\n",
       "    <tr>\n",
       "      <td>3</td>\n",
       "      <td>59800.0</td>\n",
       "      <td>dominos</td>\n",
       "      <td>355.0</td>\n",
       "      <td>NaN</td>\n",
       "      <td>1.0</td>\n",
       "      <td>retired</td>\n",
       "    </tr>\n",
       "    <tr>\n",
       "      <td>4</td>\n",
       "      <td>59800.0</td>\n",
       "      <td>bookmyshow</td>\n",
       "      <td>400.0</td>\n",
       "      <td>NaN</td>\n",
       "      <td>1.0</td>\n",
       "      <td>retired</td>\n",
       "    </tr>\n",
       "    <tr>\n",
       "      <td>...</td>\n",
       "      <td>...</td>\n",
       "      <td>...</td>\n",
       "      <td>...</td>\n",
       "      <td>...</td>\n",
       "      <td>...</td>\n",
       "      <td>...</td>\n",
       "    </tr>\n",
       "    <tr>\n",
       "      <td>185155</td>\n",
       "      <td>59604.0</td>\n",
       "      <td>airtel</td>\n",
       "      <td>1675.0</td>\n",
       "      <td>NaN</td>\n",
       "      <td>1.0</td>\n",
       "      <td>student</td>\n",
       "    </tr>\n",
       "    <tr>\n",
       "      <td>185156</td>\n",
       "      <td>59604.0</td>\n",
       "      <td>dominos</td>\n",
       "      <td>1347.0</td>\n",
       "      <td>NaN</td>\n",
       "      <td>1.0</td>\n",
       "      <td>student</td>\n",
       "    </tr>\n",
       "    <tr>\n",
       "      <td>185157</td>\n",
       "      <td>59604.0</td>\n",
       "      <td>Punjabibynature</td>\n",
       "      <td>1757.0</td>\n",
       "      <td>NaN</td>\n",
       "      <td>1.0</td>\n",
       "      <td>student</td>\n",
       "    </tr>\n",
       "    <tr>\n",
       "      <td>185158</td>\n",
       "      <td>59604.0</td>\n",
       "      <td>dominos</td>\n",
       "      <td>1798.0</td>\n",
       "      <td>NaN</td>\n",
       "      <td>1.0</td>\n",
       "      <td>student</td>\n",
       "    </tr>\n",
       "    <tr>\n",
       "      <td>185159</td>\n",
       "      <td>59604.0</td>\n",
       "      <td>PVR</td>\n",
       "      <td>853.0</td>\n",
       "      <td>NaN</td>\n",
       "      <td>1.0</td>\n",
       "      <td>student</td>\n",
       "    </tr>\n",
       "  </tbody>\n",
       "</table>\n",
       "<p>185160 rows × 6 columns</p>\n",
       "</div>"
      ],
      "text/plain": [
       "         custID         merchant  amount transaction_date  transaction_unit  \\\n",
       "0       59800.0       bookmyshow   249.0              NaN               1.0   \n",
       "1       59800.0           airtel   515.0              NaN               1.0   \n",
       "2       59800.0          dominos   577.0              NaN               1.0   \n",
       "3       59800.0          dominos   355.0              NaN               1.0   \n",
       "4       59800.0       bookmyshow   400.0              NaN               1.0   \n",
       "...         ...              ...     ...              ...               ...   \n",
       "185155  59604.0           airtel  1675.0              NaN               1.0   \n",
       "185156  59604.0          dominos  1347.0              NaN               1.0   \n",
       "185157  59604.0  Punjabibynature  1757.0              NaN               1.0   \n",
       "185158  59604.0          dominos  1798.0              NaN               1.0   \n",
       "185159  59604.0              PVR   853.0              NaN               1.0   \n",
       "\n",
       "            job  \n",
       "0       retired  \n",
       "1       retired  \n",
       "2       retired  \n",
       "3       retired  \n",
       "4       retired  \n",
       "...         ...  \n",
       "185155  student  \n",
       "185156  student  \n",
       "185157  student  \n",
       "185158  student  \n",
       "185159  student  \n",
       "\n",
       "[185160 rows x 6 columns]"
      ]
     },
     "execution_count": 71,
     "metadata": {},
     "output_type": "execute_result"
    }
   ],
   "source": [
    "testtranstable"
   ]
  },
  {
   "cell_type": "code",
   "execution_count": 72,
   "metadata": {},
   "outputs": [
    {
     "data": {
      "text/plain": [
       "<matplotlib.axes._subplots.AxesSubplot at 0x26e04f86ec8>"
      ]
     },
     "execution_count": 72,
     "metadata": {},
     "output_type": "execute_result"
    },
    {
     "data": {
      "image/png": "[encoded data removed]",
      "text/plain": [
       "<Figure size 432x288 with 1 Axes>"
      ]
     },
     "metadata": {
      "needs_background": "light"
     },
     "output_type": "display_data"
    }
   ],
   "source": [
    "housewife_t = testtranstable.loc[testtranstable['job'] == 'housemaid']\n",
    "\n",
    "house_types_t = housewife_t.groupby('merchant')['transaction_unit'].sum()\n",
    "\n",
    "house_types_t.plot.bar()"
   ]
  },
  {
   "cell_type": "code",
   "execution_count": 73,
   "metadata": {},
   "outputs": [],
   "source": [
    "testtranstable['custID'] = testtranstable['custID'].astype(int)"
   ]
  },
  {
   "cell_type": "code",
   "execution_count": 74,
   "metadata": {},
   "outputs": [
    {
     "data": {
      "text/html": [
       "<div>\n",
       "<style scoped>\n",
       "    .dataframe tbody tr th:only-of-type {\n",
       "        vertical-align: middle;\n",
       "    }\n",
       "\n",
       "    .dataframe tbody tr th {\n",
       "        vertical-align: top;\n",
       "    }\n",
       "\n",
       "    .dataframe thead th {\n",
       "        text-align: right;\n",
       "    }\n",
       "</style>\n",
       "<table border=\"1\" class=\"dataframe\">\n",
       "  <thead>\n",
       "    <tr style=\"text-align: right;\">\n",
       "      <th></th>\n",
       "      <th>custID</th>\n",
       "      <th>merchant</th>\n",
       "      <th>amount</th>\n",
       "      <th>transaction_date</th>\n",
       "      <th>transaction_unit</th>\n",
       "      <th>job</th>\n",
       "    </tr>\n",
       "  </thead>\n",
       "  <tbody>\n",
       "    <tr>\n",
       "      <td>0</td>\n",
       "      <td>59800</td>\n",
       "      <td>bookmyshow</td>\n",
       "      <td>249.0</td>\n",
       "      <td>NaN</td>\n",
       "      <td>1.0</td>\n",
       "      <td>retired</td>\n",
       "    </tr>\n",
       "    <tr>\n",
       "      <td>1</td>\n",
       "      <td>59800</td>\n",
       "      <td>airtel</td>\n",
       "      <td>515.0</td>\n",
       "      <td>NaN</td>\n",
       "      <td>1.0</td>\n",
       "      <td>retired</td>\n",
       "    </tr>\n",
       "    <tr>\n",
       "      <td>2</td>\n",
       "      <td>59800</td>\n",
       "      <td>dominos</td>\n",
       "      <td>577.0</td>\n",
       "      <td>NaN</td>\n",
       "      <td>1.0</td>\n",
       "      <td>retired</td>\n",
       "    </tr>\n",
       "    <tr>\n",
       "      <td>3</td>\n",
       "      <td>59800</td>\n",
       "      <td>dominos</td>\n",
       "      <td>355.0</td>\n",
       "      <td>NaN</td>\n",
       "      <td>1.0</td>\n",
       "      <td>retired</td>\n",
       "    </tr>\n",
       "    <tr>\n",
       "      <td>4</td>\n",
       "      <td>59800</td>\n",
       "      <td>bookmyshow</td>\n",
       "      <td>400.0</td>\n",
       "      <td>NaN</td>\n",
       "      <td>1.0</td>\n",
       "      <td>retired</td>\n",
       "    </tr>\n",
       "    <tr>\n",
       "      <td>5</td>\n",
       "      <td>59800</td>\n",
       "      <td>dominos</td>\n",
       "      <td>451.0</td>\n",
       "      <td>NaN</td>\n",
       "      <td>1.0</td>\n",
       "      <td>retired</td>\n",
       "    </tr>\n",
       "    <tr>\n",
       "      <td>6</td>\n",
       "      <td>59800</td>\n",
       "      <td>bookmyshow</td>\n",
       "      <td>561.0</td>\n",
       "      <td>NaN</td>\n",
       "      <td>1.0</td>\n",
       "      <td>retired</td>\n",
       "    </tr>\n",
       "    <tr>\n",
       "      <td>7</td>\n",
       "      <td>59800</td>\n",
       "      <td>Naturals</td>\n",
       "      <td>551.0</td>\n",
       "      <td>NaN</td>\n",
       "      <td>1.0</td>\n",
       "      <td>retired</td>\n",
       "    </tr>\n",
       "    <tr>\n",
       "      <td>8</td>\n",
       "      <td>59800</td>\n",
       "      <td>Naturals</td>\n",
       "      <td>525.0</td>\n",
       "      <td>NaN</td>\n",
       "      <td>1.0</td>\n",
       "      <td>retired</td>\n",
       "    </tr>\n",
       "    <tr>\n",
       "      <td>9</td>\n",
       "      <td>59800</td>\n",
       "      <td>bookmyshow</td>\n",
       "      <td>391.0</td>\n",
       "      <td>NaN</td>\n",
       "      <td>1.0</td>\n",
       "      <td>retired</td>\n",
       "    </tr>\n",
       "    <tr>\n",
       "      <td>10</td>\n",
       "      <td>59800</td>\n",
       "      <td>Naturals</td>\n",
       "      <td>514.0</td>\n",
       "      <td>NaN</td>\n",
       "      <td>1.0</td>\n",
       "      <td>retired</td>\n",
       "    </tr>\n",
       "    <tr>\n",
       "      <td>11</td>\n",
       "      <td>59800</td>\n",
       "      <td>Naturals</td>\n",
       "      <td>459.0</td>\n",
       "      <td>NaN</td>\n",
       "      <td>1.0</td>\n",
       "      <td>retired</td>\n",
       "    </tr>\n",
       "  </tbody>\n",
       "</table>\n",
       "</div>"
      ],
      "text/plain": [
       "    custID    merchant  amount transaction_date  transaction_unit      job\n",
       "0    59800  bookmyshow   249.0              NaN               1.0  retired\n",
       "1    59800      airtel   515.0              NaN               1.0  retired\n",
       "2    59800     dominos   577.0              NaN               1.0  retired\n",
       "3    59800     dominos   355.0              NaN               1.0  retired\n",
       "4    59800  bookmyshow   400.0              NaN               1.0  retired\n",
       "5    59800     dominos   451.0              NaN               1.0  retired\n",
       "6    59800  bookmyshow   561.0              NaN               1.0  retired\n",
       "7    59800    Naturals   551.0              NaN               1.0  retired\n",
       "8    59800    Naturals   525.0              NaN               1.0  retired\n",
       "9    59800  bookmyshow   391.0              NaN               1.0  retired\n",
       "10   59800    Naturals   514.0              NaN               1.0  retired\n",
       "11   59800    Naturals   459.0              NaN               1.0  retired"
      ]
     },
     "execution_count": 74,
     "metadata": {},
     "output_type": "execute_result"
    }
   ],
   "source": [
    "testtranstable[testtranstable['custID'] == 59800]"
   ]
  },
  {
   "cell_type": "code",
   "execution_count": 75,
   "metadata": {},
   "outputs": [],
   "source": [
    "aggregate_table = testtranstable.groupby('custID', as_index=False)[['amount']].sum()"
   ]
  },
  {
   "cell_type": "code",
   "execution_count": 76,
   "metadata": {},
   "outputs": [
    {
     "data": {
      "text/html": [
       "<div>\n",
       "<style scoped>\n",
       "    .dataframe tbody tr th:only-of-type {\n",
       "        vertical-align: middle;\n",
       "    }\n",
       "\n",
       "    .dataframe tbody tr th {\n",
       "        vertical-align: top;\n",
       "    }\n",
       "\n",
       "    .dataframe thead th {\n",
       "        text-align: right;\n",
       "    }\n",
       "</style>\n",
       "<table border=\"1\" class=\"dataframe\">\n",
       "  <thead>\n",
       "    <tr style=\"text-align: right;\">\n",
       "      <th></th>\n",
       "      <th>custID</th>\n",
       "      <th>amount</th>\n",
       "    </tr>\n",
       "  </thead>\n",
       "  <tbody>\n",
       "    <tr>\n",
       "      <td>0</td>\n",
       "      <td>50001</td>\n",
       "      <td>8058.0</td>\n",
       "    </tr>\n",
       "    <tr>\n",
       "      <td>1</td>\n",
       "      <td>50002</td>\n",
       "      <td>15598.0</td>\n",
       "    </tr>\n",
       "    <tr>\n",
       "      <td>2</td>\n",
       "      <td>50003</td>\n",
       "      <td>16111.0</td>\n",
       "    </tr>\n",
       "    <tr>\n",
       "      <td>3</td>\n",
       "      <td>50004</td>\n",
       "      <td>70025.0</td>\n",
       "    </tr>\n",
       "    <tr>\n",
       "      <td>4</td>\n",
       "      <td>50005</td>\n",
       "      <td>17447.0</td>\n",
       "    </tr>\n",
       "    <tr>\n",
       "      <td>...</td>\n",
       "      <td>...</td>\n",
       "      <td>...</td>\n",
       "    </tr>\n",
       "    <tr>\n",
       "      <td>10276</td>\n",
       "      <td>60277</td>\n",
       "      <td>11869.0</td>\n",
       "    </tr>\n",
       "    <tr>\n",
       "      <td>10277</td>\n",
       "      <td>60278</td>\n",
       "      <td>14747.0</td>\n",
       "    </tr>\n",
       "    <tr>\n",
       "      <td>10278</td>\n",
       "      <td>60279</td>\n",
       "      <td>12331.0</td>\n",
       "    </tr>\n",
       "    <tr>\n",
       "      <td>10279</td>\n",
       "      <td>60280</td>\n",
       "      <td>6496.0</td>\n",
       "    </tr>\n",
       "    <tr>\n",
       "      <td>10280</td>\n",
       "      <td>60281</td>\n",
       "      <td>8752.0</td>\n",
       "    </tr>\n",
       "  </tbody>\n",
       "</table>\n",
       "<p>10281 rows × 2 columns</p>\n",
       "</div>"
      ],
      "text/plain": [
       "       custID   amount\n",
       "0       50001   8058.0\n",
       "1       50002  15598.0\n",
       "2       50003  16111.0\n",
       "3       50004  70025.0\n",
       "4       50005  17447.0\n",
       "...       ...      ...\n",
       "10276   60277  11869.0\n",
       "10277   60278  14747.0\n",
       "10278   60279  12331.0\n",
       "10279   60280   6496.0\n",
       "10280   60281   8752.0\n",
       "\n",
       "[10281 rows x 2 columns]"
      ]
     },
     "execution_count": 76,
     "metadata": {},
     "output_type": "execute_result"
    }
   ],
   "source": [
    "aggregate_table"
   ]
  },
  {
   "cell_type": "code",
   "execution_count": 77,
   "metadata": {},
   "outputs": [
    {
     "data": {
      "text/html": [
       "<div>\n",
       "<style scoped>\n",
       "    .dataframe tbody tr th:only-of-type {\n",
       "        vertical-align: middle;\n",
       "    }\n",
       "\n",
       "    .dataframe tbody tr th {\n",
       "        vertical-align: top;\n",
       "    }\n",
       "\n",
       "    .dataframe thead th {\n",
       "        text-align: right;\n",
       "    }\n",
       "</style>\n",
       "<table border=\"1\" class=\"dataframe\">\n",
       "  <thead>\n",
       "    <tr style=\"text-align: right;\">\n",
       "      <th></th>\n",
       "      <th>custID</th>\n",
       "      <th>merchant</th>\n",
       "      <th>amount</th>\n",
       "      <th>transaction_date</th>\n",
       "      <th>transaction_unit</th>\n",
       "      <th>job</th>\n",
       "    </tr>\n",
       "  </thead>\n",
       "  <tbody>\n",
       "    <tr>\n",
       "      <td>0</td>\n",
       "      <td>59800</td>\n",
       "      <td>bookmyshow</td>\n",
       "      <td>249.0</td>\n",
       "      <td>NaN</td>\n",
       "      <td>1.0</td>\n",
       "      <td>retired</td>\n",
       "    </tr>\n",
       "    <tr>\n",
       "      <td>1</td>\n",
       "      <td>59800</td>\n",
       "      <td>airtel</td>\n",
       "      <td>515.0</td>\n",
       "      <td>NaN</td>\n",
       "      <td>1.0</td>\n",
       "      <td>retired</td>\n",
       "    </tr>\n",
       "    <tr>\n",
       "      <td>2</td>\n",
       "      <td>59800</td>\n",
       "      <td>dominos</td>\n",
       "      <td>577.0</td>\n",
       "      <td>NaN</td>\n",
       "      <td>1.0</td>\n",
       "      <td>retired</td>\n",
       "    </tr>\n",
       "    <tr>\n",
       "      <td>3</td>\n",
       "      <td>59800</td>\n",
       "      <td>dominos</td>\n",
       "      <td>355.0</td>\n",
       "      <td>NaN</td>\n",
       "      <td>1.0</td>\n",
       "      <td>retired</td>\n",
       "    </tr>\n",
       "    <tr>\n",
       "      <td>4</td>\n",
       "      <td>59800</td>\n",
       "      <td>bookmyshow</td>\n",
       "      <td>400.0</td>\n",
       "      <td>NaN</td>\n",
       "      <td>1.0</td>\n",
       "      <td>retired</td>\n",
       "    </tr>\n",
       "    <tr>\n",
       "      <td>...</td>\n",
       "      <td>...</td>\n",
       "      <td>...</td>\n",
       "      <td>...</td>\n",
       "      <td>...</td>\n",
       "      <td>...</td>\n",
       "      <td>...</td>\n",
       "    </tr>\n",
       "    <tr>\n",
       "      <td>185155</td>\n",
       "      <td>59604</td>\n",
       "      <td>airtel</td>\n",
       "      <td>1675.0</td>\n",
       "      <td>NaN</td>\n",
       "      <td>1.0</td>\n",
       "      <td>student</td>\n",
       "    </tr>\n",
       "    <tr>\n",
       "      <td>185156</td>\n",
       "      <td>59604</td>\n",
       "      <td>dominos</td>\n",
       "      <td>1347.0</td>\n",
       "      <td>NaN</td>\n",
       "      <td>1.0</td>\n",
       "      <td>student</td>\n",
       "    </tr>\n",
       "    <tr>\n",
       "      <td>185157</td>\n",
       "      <td>59604</td>\n",
       "      <td>Punjabibynature</td>\n",
       "      <td>1757.0</td>\n",
       "      <td>NaN</td>\n",
       "      <td>1.0</td>\n",
       "      <td>student</td>\n",
       "    </tr>\n",
       "    <tr>\n",
       "      <td>185158</td>\n",
       "      <td>59604</td>\n",
       "      <td>dominos</td>\n",
       "      <td>1798.0</td>\n",
       "      <td>NaN</td>\n",
       "      <td>1.0</td>\n",
       "      <td>student</td>\n",
       "    </tr>\n",
       "    <tr>\n",
       "      <td>185159</td>\n",
       "      <td>59604</td>\n",
       "      <td>PVR</td>\n",
       "      <td>853.0</td>\n",
       "      <td>NaN</td>\n",
       "      <td>1.0</td>\n",
       "      <td>student</td>\n",
       "    </tr>\n",
       "  </tbody>\n",
       "</table>\n",
       "<p>185160 rows × 6 columns</p>\n",
       "</div>"
      ],
      "text/plain": [
       "        custID         merchant  amount transaction_date  transaction_unit  \\\n",
       "0        59800       bookmyshow   249.0              NaN               1.0   \n",
       "1        59800           airtel   515.0              NaN               1.0   \n",
       "2        59800          dominos   577.0              NaN               1.0   \n",
       "3        59800          dominos   355.0              NaN               1.0   \n",
       "4        59800       bookmyshow   400.0              NaN               1.0   \n",
       "...        ...              ...     ...              ...               ...   \n",
       "185155   59604           airtel  1675.0              NaN               1.0   \n",
       "185156   59604          dominos  1347.0              NaN               1.0   \n",
       "185157   59604  Punjabibynature  1757.0              NaN               1.0   \n",
       "185158   59604          dominos  1798.0              NaN               1.0   \n",
       "185159   59604              PVR   853.0              NaN               1.0   \n",
       "\n",
       "            job  \n",
       "0       retired  \n",
       "1       retired  \n",
       "2       retired  \n",
       "3       retired  \n",
       "4       retired  \n",
       "...         ...  \n",
       "185155  student  \n",
       "185156  student  \n",
       "185157  student  \n",
       "185158  student  \n",
       "185159  student  \n",
       "\n",
       "[185160 rows x 6 columns]"
      ]
     },
     "execution_count": 77,
     "metadata": {},
     "output_type": "execute_result"
    }
   ],
   "source": [
    "testtranstable"
   ]
  },
  {
   "cell_type": "markdown",
   "metadata": {},
   "source": [
    "#### Randomly populate transaction dates"
   ]
  },
  {
   "cell_type": "code",
   "execution_count": 78,
   "metadata": {},
   "outputs": [],
   "source": [
    "import datetime"
   ]
  },
  {
   "cell_type": "code",
   "execution_count": 79,
   "metadata": {},
   "outputs": [],
   "source": [
    "start_date = datetime.date(2020, 2, 1) #1st Feb 2020\n",
    "end_date = datetime.date(2020, 4, 1) #1st Apr 2020\n",
    "\n",
    "time_between_dates = end_date - start_date\n",
    "days_between_dates = time_between_dates.days"
   ]
  },
  {
   "cell_type": "code",
   "execution_count": 80,
   "metadata": {},
   "outputs": [],
   "source": [
    "list_of_dates = []"
   ]
  },
  {
   "cell_type": "code",
   "execution_count": 81,
   "metadata": {},
   "outputs": [],
   "source": [
    "for i in range(len(testtranstable)):\n",
    "    \n",
    "    random_number_of_days = random.randrange(days_between_dates)\n",
    "    random_date = start_date + datetime.timedelta(days=random_number_of_days)\n",
    "    \n",
    "    list_of_dates.append(random_date)\n",
    "    \n",
    "    "
   ]
  },
  {
   "cell_type": "code",
   "execution_count": 82,
   "metadata": {},
   "outputs": [],
   "source": [
    "testtranstable['transaction_date'] = list_of_dates"
   ]
  },
  {
   "cell_type": "code",
   "execution_count": 83,
   "metadata": {},
   "outputs": [],
   "source": [
    "testtranstable.to_csv('transaction_table.csv',index=False)"
   ]
  },
  {
   "cell_type": "markdown",
   "metadata": {},
   "source": [
    "#### Join the tables"
   ]
  },
  {
   "cell_type": "code",
   "execution_count": 84,
   "metadata": {},
   "outputs": [],
   "source": [
    "final_abt_join = pd.merge(final_abt,aggregate_table,on='custID')"
   ]
  },
  {
   "cell_type": "markdown",
   "metadata": {},
   "source": [
    "#### Export the data to csv"
   ]
  },
  {
   "cell_type": "code",
   "execution_count": 85,
   "metadata": {},
   "outputs": [],
   "source": [
    "final_abt_join.to_csv('final_customer_abt.csv',index=False)"
   ]
  },
  {
   "cell_type": "code",
   "execution_count": null,
   "metadata": {},
   "outputs": [],
   "source": []
  },
  {
   "cell_type": "markdown",
   "metadata": {},
   "source": [
    "#### Change job_gp for technician to Medium Earner"
   ]
  },
  {
   "cell_type": "code",
   "execution_count": 86,
   "metadata": {},
   "outputs": [
    {
     "data": {
      "text/plain": [
       "185160"
      ]
     },
     "execution_count": 86,
     "metadata": {},
     "output_type": "execute_result"
    }
   ],
   "source": [
    "len(cust_Id_list)"
   ]
  },
  {
   "cell_type": "code",
   "execution_count": 87,
   "metadata": {},
   "outputs": [
    {
     "data": {
      "text/plain": [
       "185160"
      ]
     },
     "execution_count": 87,
     "metadata": {},
     "output_type": "execute_result"
    }
   ],
   "source": [
    "len(transaction_unit)"
   ]
  },
  {
   "cell_type": "code",
   "execution_count": 88,
   "metadata": {},
   "outputs": [
    {
     "data": {
      "text/plain": [
       "list"
      ]
     },
     "execution_count": 88,
     "metadata": {},
     "output_type": "execute_result"
    }
   ],
   "source": [
    "type(cust_Id_list)"
   ]
  },
  {
   "cell_type": "code",
   "execution_count": 89,
   "metadata": {},
   "outputs": [],
   "source": [
    "trans_table['custID'] = cust_Id_list"
   ]
  },
  {
   "cell_type": "code",
   "execution_count": 90,
   "metadata": {},
   "outputs": [],
   "source": [
    "trans_table['transaction_unit'] = transaction_unit"
   ]
  },
  {
   "cell_type": "code",
   "execution_count": 91,
   "metadata": {},
   "outputs": [
    {
     "data": {
      "text/plain": [
       "custID\n",
       "50001    13\n",
       "50002    17\n",
       "50003    13\n",
       "50004    14\n",
       "50005    18\n",
       "         ..\n",
       "60277    12\n",
       "60278    15\n",
       "60279    16\n",
       "60280    16\n",
       "60281    20\n",
       "Name: transaction_unit, Length: 10281, dtype: int64"
      ]
     },
     "execution_count": 91,
     "metadata": {},
     "output_type": "execute_result"
    }
   ],
   "source": [
    "trans_table.groupby('custID')['transaction_unit'].sum()"
   ]
  },
  {
   "cell_type": "code",
   "execution_count": null,
   "metadata": {},
   "outputs": [],
   "source": []
  }
 ],
 "metadata": {
  "kernelspec": {
   "display_name": "Python 3",
   "language": "python",
   "name": "python3"
  },
  "language_info": {
   "codemirror_mode": {
    "name": "ipython",
    "version": 3
   },
   "file_extension": ".py",
   "mimetype": "text/x-python",
   "name": "python",
   "nbconvert_exporter": "python",
   "pygments_lexer": "ipython3",
   "version": "3.7.4"
  }
 },
 "nbformat": 4,
 "nbformat_minor": 2
}
